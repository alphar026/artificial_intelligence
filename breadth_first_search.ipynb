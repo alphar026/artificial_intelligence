{
  "nbformat": 4,
  "nbformat_minor": 0,
  "metadata": {
    "colab": {
      "provenance": []
    },
    "kernelspec": {
      "name": "python3",
      "display_name": "Python 3"
    },
    "language_info": {
      "name": "python"
    }
  },
  "cells": [
    {
      "cell_type": "markdown",
      "source": [
        "# Libraries"
      ],
      "metadata": {
        "id": "x7TL_2hYqz2m"
      }
    },
    {
      "cell_type": "code",
      "source": [
        "from collections import deque"
      ],
      "metadata": {
        "id": "JRJkSCjRq4Gr"
      },
      "execution_count": 5,
      "outputs": []
    },
    {
      "cell_type": "markdown",
      "source": [
        "#Functions"
      ],
      "metadata": {
        "id": "xELGriizq7Dh"
      }
    },
    {
      "cell_type": "code",
      "source": [
        "def bfs(graph, initial_node):\n",
        "    visited_nodes = set()\n",
        "    queue = deque()\n",
        "\n",
        "    visited_nodes.add(initial_node)\n",
        "    queue.append(initial_node)\n",
        "\n",
        "    while queue:\n",
        "        current_node = queue.popleft()\n",
        "        print(current_node, end = ' ')\n",
        "        for node in graph[current_node]:\n",
        "            if node not in visited_nodes:\n",
        "                visited_nodes.add(node)\n",
        "                queue.append(node)\n",
        "def main():\n",
        "    bfs(g_1, '1')"
      ],
      "metadata": {
        "id": "FXW1VPsEqEsT"
      },
      "execution_count": 6,
      "outputs": []
    },
    {
      "cell_type": "markdown",
      "source": [
        "# Inputs"
      ],
      "metadata": {
        "id": "Gk4gEJbUrDo-"
      }
    },
    {
      "cell_type": "code",
      "source": [
        "g_1 = {\n",
        "  '1' : ['2', '3'],\n",
        "  '2' : ['4', '5'],\n",
        "  '3' : ['6'],\n",
        "  '4' : [],\n",
        "  '5' : ['6'],\n",
        "  '6' : []\n",
        "}"
      ],
      "metadata": {
        "id": "A6Xobuf5rCmb"
      },
      "execution_count": 7,
      "outputs": []
    },
    {
      "cell_type": "markdown",
      "source": [
        "# Execution"
      ],
      "metadata": {
        "id": "cMpBKzuBrT7l"
      }
    },
    {
      "cell_type": "code",
      "source": [
        "main()"
      ],
      "metadata": {
        "colab": {
          "base_uri": "https://localhost:8080/"
        },
        "id": "vzLJxYvKrHNW",
        "outputId": "9fa8aabe-86cd-42d5-e981-559d3d1fa73f"
      },
      "execution_count": 8,
      "outputs": [
        {
          "output_type": "stream",
          "name": "stdout",
          "text": [
            "1 2 3 4 5 6 "
          ]
        }
      ]
    },
    {
      "cell_type": "code",
      "source": [],
      "metadata": {
        "id": "djj3mdSUrYF3"
      },
      "execution_count": null,
      "outputs": []
    }
  ]
}